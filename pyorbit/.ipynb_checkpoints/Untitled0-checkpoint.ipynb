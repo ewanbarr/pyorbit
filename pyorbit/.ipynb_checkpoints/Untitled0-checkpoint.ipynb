{
 "metadata": {
  "name": "",
  "signature": "sha256:b89c7f1e9cb28d1517191e2ebee0a9ad427ad9e61fa8c32f213b518f8627ffa3"
 },
 "nbformat": 3,
 "nbformat_minor": 0,
 "worksheets": []
}